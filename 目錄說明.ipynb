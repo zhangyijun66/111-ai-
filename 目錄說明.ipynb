{
  "nbformat": 4,
  "nbformat_minor": 0,
  "metadata": {
    "colab": {
      "provenance": [],
      "authorship_tag": "ABX9TyPEFfuW2pC4vHyBDr0cCBXp",
      "include_colab_link": true
    },
    "kernelspec": {
      "name": "python3",
      "display_name": "Python 3"
    },
    "language_info": {
      "name": "python"
    }
  },
  "cells": [
    {
      "cell_type": "markdown",
      "metadata": {
        "id": "view-in-github",
        "colab_type": "text"
      },
      "source": [
        "<a href=\"https://colab.research.google.com/github/zhangyijun66/111-ai-/blob/main/%E7%9B%AE%E9%8C%84%E8%AA%AA%E6%98%8E.ipynb\" target=\"_parent\"><img src=\"https://colab.research.google.com/assets/colab-badge.svg\" alt=\"Open In Colab\"/></a>"
      ]
    },
    {
      "cell_type": "markdown",
      "source": [
        "**創建model資料夾，先將此檔案放入model資料夾**\n",
        "\n"
      ],
      "metadata": {
        "id": "wkajroyTlDn_"
      }
    },
    {
      "cell_type": "markdown",
      "source": [
        "**打開google drive新增文件夾取名叫做model，從model資料夾開啟colab作業**"
      ],
      "metadata": {
        "id": "DyToCeTzlnTn"
      }
    },
    {
      "cell_type": "markdown",
      "source": [
        "# 連接雲端"
      ],
      "metadata": {
        "id": "KowUGGdfl2Mj"
      }
    },
    {
      "cell_type": "markdown",
      "source": [
        "# 下載模型"
      ],
      "metadata": {
        "id": "NUTwiMyMl6Vh"
      }
    },
    {
      "cell_type": "markdown",
      "source": [
        "# 安裝指令"
      ],
      "metadata": {
        "id": "JU6rHXBil8AG"
      }
    },
    {
      "cell_type": "markdown",
      "source": [
        "# 修改路徑"
      ],
      "metadata": {
        "id": "pAvV7Fupl9aC"
      }
    },
    {
      "cell_type": "markdown",
      "source": [
        "**將此資料夾(model)的雲端路徑複製，貼上到Path_to_MODEL裡**"
      ],
      "metadata": {
        "id": "26inhhfXl_Pt"
      }
    },
    {
      "cell_type": "markdown",
      "source": [
        "# 執行生成"
      ],
      "metadata": {
        "id": "sUlSfyUImFig"
      }
    },
    {
      "cell_type": "markdown",
      "source": [
        "\n",
        "**-->點選藍色網址**"
      ],
      "metadata": {
        "id": "cQpMDWENlUFZ"
      }
    }
  ]
}